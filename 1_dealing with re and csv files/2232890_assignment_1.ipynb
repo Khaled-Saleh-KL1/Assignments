{
 "cells": [
  {
   "cell_type": "code",
   "execution_count": 1,
   "id": "457fd1a3",
   "metadata": {},
   "outputs": [],
   "source": [
    "import re\n",
    "import csv"
   ]
  },
  {
   "cell_type": "code",
   "execution_count": 2,
   "id": "1b1f6d6e",
   "metadata": {},
   "outputs": [],
   "source": [
    "try:\n",
    "    with open(r'dataset-all.txt' , 'r') as text , open(r'dataset-all.csv' , 'w', newline = '') as cesv:\n",
    "        writer = csv.writer(cesv)\n",
    "        for data in text:\n",
    "            data = re.sub('\\n' , '' , data)\n",
    "            if re.search(r'(\\d+(,\\d+))+' , data):\n",
    "                data = re.sub(',' , '' , data)\n",
    "            if re.search(r'(\"\\d+\")+' , data):\n",
    "                data = re.sub('\"' , '' , data)\n",
    "            text = data.rsplit(' ' , 3)\n",
    "            writer.writerow(text)\n",
    "except (FileNotFoundError , ValueError) as p:\n",
    "    print(p)"
   ]
  },
  {
   "cell_type": "code",
   "execution_count": 3,
   "id": "3c4db6fe",
   "metadata": {},
   "outputs": [],
   "source": [
    "list_words = []\n",
    "list_tags = []\n",
    "count = 0\n",
    "try:\n",
    "    with open(r'dataset-all.csv', 'r') as dataset , open(r'file1_words.csv' , 'w',newline='') as file1 ,\\\n",
    "    open(r'file2_tags.csv', 'w',newline='') as file2:\n",
    "        data = csv.DictReader(dataset)\n",
    "        writer_word = csv.writer(file1)\n",
    "        writer_tag = csv.writer(file2)\n",
    "        for row in data:\n",
    "            count += 1\n",
    "            if re.fullmatch(r'Sentence: \\d+' , row['Sentence #'] ) and count != 1:\n",
    "                writer_word.writerow(list_words)\n",
    "                writer_tag.writerow(list_tags)\n",
    "                list_words = []\n",
    "                list_tags = []\n",
    "            if row['Word'] :\n",
    "                list_words += [row['Word']]\n",
    "            if row['Tag']:\n",
    "                list_tags += [row['Tag']]\n",
    "        writer_word.writerow(list_words)\n",
    "        writer_tag.writerow(list_tags)\n",
    "        del list_words , list_tags , count\n",
    "            \n",
    "except (FileNotFoundError , ValueError) as p:\n",
    "    print(p)"
   ]
  },
  {
   "cell_type": "code",
   "execution_count": null,
   "id": "bf6704f4",
   "metadata": {},
   "outputs": [],
   "source": []
  },
  {
   "cell_type": "code",
   "execution_count": null,
   "id": "5d19ae72",
   "metadata": {},
   "outputs": [],
   "source": []
  }
 ],
 "metadata": {
  "kernelspec": {
   "display_name": "Python 3 (ipykernel)",
   "language": "python",
   "name": "python3"
  },
  "language_info": {
   "codemirror_mode": {
    "name": "ipython",
    "version": 3
   },
   "file_extension": ".py",
   "mimetype": "text/x-python",
   "name": "python",
   "nbconvert_exporter": "python",
   "pygments_lexer": "ipython3",
   "version": "3.11.5"
  }
 },
 "nbformat": 4,
 "nbformat_minor": 5
}
