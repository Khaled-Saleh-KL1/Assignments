{
 "cells": [
  {
   "cell_type": "code",
   "execution_count": 1,
   "id": "0055f596",
   "metadata": {},
   "outputs": [],
   "source": [
    "import csv\n",
    "import re"
   ]
  },
  {
   "cell_type": "code",
   "execution_count": 2,
   "id": "b5765d1a",
   "metadata": {},
   "outputs": [],
   "source": [
    "try:\n",
    "    with open(r'Tags_data.csv','r') as tags, open(r'Text_data.csv','r') as text, \\\n",
    "    open('dataset-all.csv','w',newline='') as new:\n",
    "        writer = csv.writer(new)\n",
    "        writer.writerow(['Sentence #' , 'Word' , 'Tag'])\n",
    "        counter = 1\n",
    "        for row_txt , row_tag in zip(csv.reader(text) , csv.reader(tags)):\n",
    "            new.write(f'Sentence : {counter}')\n",
    "            for word , tag in zip(row_txt , row_tag):\n",
    "                if re.findall('\\d{5,}' , word):\n",
    "                    for test in re.findall('\\d{5,}' , word):\n",
    "                        row_ = int(test)\n",
    "                        row_ = '{:,}'.format(row_)\n",
    "                        word = word.replace(test , row_)\n",
    "                writer.writerow(['',word , tag])\n",
    "            counter += 1\n",
    "except (FileNotFoundError , ValueError) as Error:\n",
    "    print(Error)"
   ]
  },
  {
   "cell_type": "code",
   "execution_count": null,
   "id": "569fcdc9",
   "metadata": {},
   "outputs": [],
   "source": []
  },
  {
   "cell_type": "code",
   "execution_count": null,
   "id": "80673817",
   "metadata": {},
   "outputs": [],
   "source": []
  }
 ],
 "metadata": {
  "kernelspec": {
   "display_name": "Python 3 (ipykernel)",
   "language": "python",
   "name": "python3"
  },
  "language_info": {
   "codemirror_mode": {
    "name": "ipython",
    "version": 3
   },
   "file_extension": ".py",
   "mimetype": "text/x-python",
   "name": "python",
   "nbconvert_exporter": "python",
   "pygments_lexer": "ipython3",
   "version": "3.11.5"
  }
 },
 "nbformat": 4,
 "nbformat_minor": 5
}
