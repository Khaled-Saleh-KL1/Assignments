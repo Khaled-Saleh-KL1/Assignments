{
 "cells": [
  {
   "cell_type": "markdown",
   "id": "f27e1d7f-dac0-4e8e-bdd6-14336c9c86b4",
   "metadata": {},
   "source": [
    "# Methods and imports"
   ]
  },
  {
   "cell_type": "code",
   "execution_count": 1,
   "id": "04b5ce44-11d1-4e9c-8c61-deaa7102440b",
   "metadata": {},
   "outputs": [],
   "source": [
    "import numpy as np\n",
    "import pandas as pd\n",
    "from tabulate import tabulate\n",
    "\n",
    "def mean_gender(gender):\n",
    "    return np.nanmean(gender_heart[1][gender_heart[0] == gender])# mean of the heart rate of a specefic gender\n",
    "    \n",
    "def std_gender(gender):\n",
    "    return np.nanstd(gender_heart[1][gender_heart[0] == gender]) # std of the heart rate of a specefic gender\n",
    "\n",
    "def IQR(arr):\n",
    "    return np.subtract(np.nanpercentile(arr, 75, axis=0), np.nanpercentile(arr, 25, axis=0))\n",
    "\n",
    "def display(data, header='keys', format='psql'): # header = 'firstrow'\n",
    "    return tabulate(data, headers=header, tablefmt=format) # tablefmt='fancy_grid'\n",
    "\n",
    "def total_blood_pressure(Systolic, Diastolic):\n",
    "    return np.nansum([Systolic , Diastolic], axis=0)\n",
    "\n",
    "def matrix_distances(matrix):\n",
    "    return np.nansum((matrix[:, np.newaxis, :] - matrix[np.newaxis, :, :]) ** 2, axis=-1)"
   ]
  },
  {
   "cell_type": "markdown",
   "id": "9007e32c",
   "metadata": {},
   "source": [
    "### 1 - Read the \"heartFailureDataset.txt\" dataset into a Numpy array. You can use the appropriate Numpy function for reading tabular data.\n"
   ]
  },
  {
   "cell_type": "code",
   "execution_count": 2,
   "id": "33f28f2f",
   "metadata": {},
   "outputs": [],
   "source": [
    "try:\n",
    "    file = pd.read_csv('HeartFailureDataset 1.csv') # read the csv file\n",
    "    arr_data = np.array(file.values)     #store the data without attributes in a numpy array\n",
    "    arr_features = np.array(file.columns.tolist())   #store the attributes only in a numpy array\n",
    "    \n",
    "except (Exception, BaseException):\n",
    "    print('Error, search about it  ♠☻♠')"
   ]
  },
  {
   "cell_type": "markdown",
   "id": "fd98ecbe",
   "metadata": {},
   "source": [
    "### 2 -  Calculate the mean and standard deviation of the “heart rate” values for each “gender” across all patients. Then, identify the “gender: with the lowest mean heart rate."
   ]
  },
  {
   "cell_type": "code",
   "execution_count": 3,
   "id": "9315b2dc",
   "metadata": {},
   "outputs": [
    {
     "name": "stdout",
     "output_type": "stream",
     "text": [
      "mean gender 1 = 84.80731991110707\n",
      "standard deviation gender 1 = 16.072054208238853\n",
      "\n",
      "mean gender 2 = 84.36778837735726\n",
      "standard deviation gender 1 = 15.954616665632308\n",
      "\n",
      "The gender of the lowest mean heart rate is 2\n"
     ]
    }
   ],
   "source": [
    "gender_heart = np.array([arr_data[:,3], arr_data[:,14]], dtype = float) # [[gender_column],[heart...]]\n",
    "# take the genderia and heart rate and put them together in a numpy array of float dtype to deal with them\n",
    "\n",
    "mean_1 , mean_2 = mean_gender(1) , mean_gender(2) # To not calculate it again in the comparison part\n",
    "\n",
    "print(f'mean gender 1 = {mean_1}')\n",
    "print(f'standard deviation gender 1 = {std_gender(1)}\\n')\n",
    "print(f'mean gender 2 = {mean_2}')\n",
    "print(f'standard deviation gender 1 = {std_gender(2)}\\n')\n",
    "print(f\"The gender of the lowest mean heart rate is {'2' if mean_1 > mean_2 else '1'}\") # comparison part"
   ]
  },
  {
   "cell_type": "markdown",
   "id": "f8d251ca",
   "metadata": {},
   "source": [
    "### 3 - Calculate the median and interquartile range of all features. Then, identify the feature with the smallest and largest interquartile range."
   ]
  },
  {
   "cell_type": "markdown",
   "id": "6a6d99ae-1a7f-44f2-a426-54a4ff3f55b7",
   "metadata": {},
   "source": [
    "**(axis = 0) ==> column ||  (axis = 1) ==> row**"
   ]
  },
  {
   "cell_type": "code",
   "execution_count": 4,
   "id": "fce0968b",
   "metadata": {},
   "outputs": [
    {
     "name": "stdout",
     "output_type": "stream",
     "text": [
      "The max interquartil = NT-proBNP and the min interquartil = outcome\n",
      "\n",
      "+------------+---------------+\n",
      "|     Median |           IQR |\n",
      "|------------+---------------|\n",
      "|    0       |     0         |\n",
      "|   77       |    20         |\n",
      "|    2       |     1         |\n",
      "|   28.3125  |     9.30705   |\n",
      "|    1       |     1         |\n",
      "|    0       |     1         |\n",
      "|    0       |     0         |\n",
      "|    0       |     1         |\n",
      "|    0       |     1         |\n",
      "|    0       |     0         |\n",
      "|    0       |     1         |\n",
      "|    0       |     1         |\n",
      "|    0       |     0         |\n",
      "|   83.6108  |    23.5359    |\n",
      "|  116.128   |    23.2337    |\n",
      "|   58.4615  |    13.2904    |\n",
      "|   20.3723  |     5.46551   |\n",
      "|   36.6508  |     0.735946  |\n",
      "|   96.4523  |     2.9175    |\n",
      "| 1675       |  1520         |\n",
      "|   30.8     |     6.8525    |\n",
      "|    3.49    |     0.78      |\n",
      "|   29.75    |     2.99      |\n",
      "|   32.9857  |     1.81389   |\n",
      "|   90       |     7.60714   |\n",
      "|   15.5062  |     2.4775    |\n",
      "|    9.68    |     5.3       |\n",
      "|  222.667   |   135.341     |\n",
      "|   82.4667  |    12.675     |\n",
      "|    0.3     |     0.3       |\n",
      "|   10.475   |     8.8125    |\n",
      "|   14.6333  |     5.64      |\n",
      "|    1.3     |     0.596364  |\n",
      "| 5840       | 12717         |\n",
      "|   89.25    |   139.188     |\n",
      "|    1.2875  |     0.96      |\n",
      "|   30.6667  |    24.4167    |\n",
      "|  136.4     |    55.5625    |\n",
      "|    4.11538 |     0.5       |\n",
      "|  139.25    |     4.93333   |\n",
      "|    8.5     |     0.720199  |\n",
      "|  102.5     |     6.57143   |\n",
      "|   13.6667  |     3.16667   |\n",
      "|    2.09231 |     0.286111  |\n",
      "|    7.38    |     0.0953846 |\n",
      "|   26.5     |     6.42045   |\n",
      "|    1.6     |     1         |\n",
      "|   43       |    13.5473    |\n",
      "|   55       |    15         |\n",
      "+------------+---------------+\n"
     ]
    }
   ],
   "source": [
    "median_columns = np.nanmedian(arr_data[:,1:], axis=0)\n",
    "IQR_columns = IQR(arr_data[:,1:]) #depending on the box plot concept....\n",
    "\n",
    "# print(np.shape(arr_features))\n",
    "# print(np.shape(IQR_columns))\n",
    "\n",
    "max_feature = arr_features[np.argmax(IQR_columns) + 1] # +1 to avoid the ID from arr_feature\n",
    "min_feature = arr_features[np.argmin(IQR_columns) + 1] # +1 to avoid the ID from arr_feature\n",
    "\n",
    "print(f'The max interquartil = {max_feature} and the min interquartil = {min_feature}\\n')\n",
    "\n",
    "print(display({\"Median\": median_columns, \"IQR\": IQR_columns}))"
   ]
  },
  {
   "cell_type": "markdown",
   "id": "5bde8fae",
   "metadata": {},
   "source": [
    "### 4 - Using the np.sum function, calculate the total “blood pressure” (“Systolic blood  pressure” and “Diastolic blood pressure”) value for each patient. Then, print the top 10 “patient IDs” with the highest blood pressure values."
   ]
  },
  {
   "cell_type": "code",
   "execution_count": 5,
   "id": "906a7f7d",
   "metadata": {},
   "outputs": [
    {
     "name": "stdout",
     "output_type": "stream",
     "text": [
      "+-------------+---------------+\n",
      "|   IDs_Top10 |   Total_blood |\n",
      "|-------------+---------------|\n",
      "|      114085 |       248.96  |\n",
      "|      184453 |       249.909 |\n",
      "|      196981 |       251.97  |\n",
      "|      118932 |       258.8   |\n",
      "|      196856 |       259.739 |\n",
      "|      163199 |       280.031 |\n",
      "|      190823 |       268.842 |\n",
      "|      169263 |       258.278 |\n",
      "|      178001 |       283.2   |\n",
      "|      189112 |       252.391 |\n",
      "+-------------+---------------+\n"
     ]
    }
   ],
   "source": [
    "# print(arr_features[15]) # ==> Systolic blood pressure\n",
    "# print(arr_features[16]) # ==> Diastolic blood pressure\n",
    "total_blood = total_blood_pressure(arr_data[:,15], arr_data[:,16])\n",
    "IDs = np.array(arr_data[:,0]).astype(int) #take the IDs and put them in a seperate numpy array\n",
    "indexes = np.argpartition(total_blood, -10, axis=0)[-10:] #Take the top 10 indeces of the total_blood\n",
    "\n",
    "print(display({'IDs_Top10':IDs[indexes], 'Total_blood':total_blood[indexes]}))"
   ]
  },
  {
   "cell_type": "markdown",
   "id": "7c7ca838",
   "metadata": {},
   "source": [
    "### 5 - Sort the patients in descending order based on their “glucose” values. Print the patient IDs of the top 10 patients based on their \"glucose\" values."
   ]
  },
  {
   "cell_type": "code",
   "execution_count": 6,
   "id": "ab894b4c",
   "metadata": {},
   "outputs": [
    {
     "name": "stdout",
     "output_type": "stream",
     "text": [
      "+-------------+----------+\n",
      "|   IDs_Top10 |   Values |\n",
      "|-------------+----------|\n",
      "|      194828 |  414.1   |\n",
      "|      173649 |  369     |\n",
      "|      121701 |  365.75  |\n",
      "|      159518 |  352.333 |\n",
      "|      193287 |  349.667 |\n",
      "|      114936 |  348.444 |\n",
      "|      101851 |  345.2   |\n",
      "|      166548 |  342.5   |\n",
      "|      192990 |  339.909 |\n",
      "|      174478 |  338.846 |\n",
      "+-------------+----------+\n"
     ]
    }
   ],
   "source": [
    "# print(arr_features[38])  # ==>  glucose\n",
    "glucose = np.argsort(arr_data[:,38], axis=0)[::-1] \n",
    "max_val = np.nanargmax(arr_data[:,38][glucose]) # index of the largest value\n",
    "\n",
    "# for i in arr_data[:,38][glucose]:\n",
    "#     print(i)\n",
    "# print(arr_data[:,38][glucose][max_val]) #414.1\n",
    "\n",
    "IDs_top_10 = IDs[glucose][max_val:max_val+10]\n",
    "glucose_top_10 = arr_data[:,38][glucose][max_val:max_val+10]\n",
    "\n",
    "print(display({'IDs_Top10':IDs_top_10, 'Values':glucose_top_10}))"
   ]
  },
  {
   "cell_type": "markdown",
   "id": "116f6b3b",
   "metadata": {},
   "source": [
    "### 6 - Using fancy indexing, substitute the \"Creatinine\" values of the top 5 patients, with the corresponding median value of that feature."
   ]
  },
  {
   "cell_type": "code",
   "execution_count": 7,
   "id": "081daa05",
   "metadata": {},
   "outputs": [
    {
     "name": "stdout",
     "output_type": "stream",
     "text": [
      "+--------+---------------------+--------------------+\n",
      "|    IDs |   Top 5 before edit |   Top 5 after edit |\n",
      "|--------+---------------------+--------------------|\n",
      "| 182383 |              9.0125 |             1.2875 |\n",
      "| 154590 |              9.2    |             1.2875 |\n",
      "| 125433 |             12.45   |             1.2875 |\n",
      "| 194346 |             15.5273 |             1.2875 |\n",
      "| 122477 |             12.8375 |             1.2875 |\n",
      "+--------+---------------------+--------------------+\n"
     ]
    }
   ],
   "source": [
    "# print(arr_features[36]) # ==> creatinine column\n",
    "median_creatinine = np.nanmedian(arr_data[:,36], axis=0) # ==> 1.2875\n",
    "indexes = np.argpartition(arr_data[:,36], -5, axis=0)[-5:] # get the indexes of the top 5\n",
    "\n",
    "top_5_before_edit = arr_data[:,36][indexes]\n",
    "arr_data[indexes,36] = median_creatinine\n",
    "\n",
    "print(display({'IDs':IDs[indexes],'Top 5 before edit':top_5_before_edit,'Top 5 after edit':arr_data[:,36][indexes]}))"
   ]
  },
  {
   "cell_type": "markdown",
   "id": "b1909b44",
   "metadata": {},
   "source": [
    "### 7 - Using np.argpartition, identify the top 100 values of each feature. Subsequently, compute the mean of each feature, considering only the 100 highest values."
   ]
  },
  {
   "cell_type": "code",
   "execution_count": 8,
   "id": "a9a89e0e",
   "metadata": {},
   "outputs": [
    {
     "name": "stdout",
     "output_type": "stream",
     "text": [
      "+-------------+--------------------------+\n",
      "|        mean | feature                  |\n",
      "|-------------+--------------------------|\n",
      "|     1       | outcome                  |\n",
      "|    90.37    | age                      |\n",
      "|     2       | gendera                  |\n",
      "|    50.3714  | BMI                      |\n",
      "|     1       | hypertensive             |\n",
      "|     1       | atrialfibrillation       |\n",
      "|     1       | CHD with no MI           |\n",
      "|     1       | diabetes                 |\n",
      "|     1       | deficiencyanemias        |\n",
      "|     1       | depression               |\n",
      "|     1       | Hyperlipemia             |\n",
      "|     1       | Renal failure            |\n",
      "|     0.89    | COPD                     |\n",
      "|   115.36    | heart rate               |\n",
      "|   154.173   | Systolic blood pressure  |\n",
      "|    82.072   | Diastolic blood pressure |\n",
      "|    28.8595  | Respiratory rate         |\n",
      "|    37.8776  | temperature              |\n",
      "|    99.5513  | SP O2                    |\n",
      "|  4791.88    | Urine output             |\n",
      "|    43.4354  | hematocrit               |\n",
      "|     4.9558  | RBC                      |\n",
      "|    33.8099  | MCH                      |\n",
      "|    35.1965  | MCHC                     |\n",
      "|   101.689   | MCV                      |\n",
      "|    20.8041  | RDW                      |\n",
      "|    22.5279  | Leucocyte                |\n",
      "|   490.842   | Platelets                |\n",
      "|    93.6561  | Neutrophils              |\n",
      "|     1.2101  | Basophils                |\n",
      "|    31.4419  | Lymphocyte               |\n",
      "|    36.3883  | PT                       |\n",
      "|     3.77745 | INR                      |\n",
      "| 44198.4     | NT-proBNP                |\n",
      "|  1517.62    | Creatine kinase          |\n",
      "|     4.39796 | Creatinine               |\n",
      "|    89.5401  | Urea nitrogen            |\n",
      "|   272.688   | glucose                  |\n",
      "|     5.07963 | Blood potassium          |\n",
      "|   145.588   | Blood sodium             |\n",
      "|     9.56286 | Blood calcium            |\n",
      "|   112.012   | Chloride                 |\n",
      "|    19.6315  | Anion gap                |\n",
      "|     2.66757 | Magnesium ion            |\n",
      "|     7.4853  | PH                       |\n",
      "|    37.6947  | Bicarbonate              |\n",
      "|     4.04983 | Lactic acid              |\n",
      "|    72.8245  | PCO2                     |\n",
      "|    70.12    | EF                       |\n",
      "+-------------+--------------------------+\n"
     ]
    }
   ],
   "source": [
    "arr_without_nan = np.nan_to_num(arr_data[:,1:], nan=0) # to remove the warning\n",
    "\n",
    "indexes_top_100 = np.argpartition(arr_without_nan, -100, axis=0)[-100:]\n",
    "top_100_values = np.take_along_axis(arr_without_nan, indexes_top_100, axis=0)\n",
    "mean_for_top_100 = np.mean(top_100_values, axis=0)\n",
    "\n",
    "print(display({'mean':mean_for_top_100, 'feature':arr_features[1:]}))"
   ]
  },
  {
   "cell_type": "markdown",
   "id": "75b11ca7",
   "metadata": {},
   "source": [
    "### 8 - Calculate the mean and standard deviation of “Respiratory rate” values. Then, identify the patient IDs with 2 standard deviation away from the mean of “Respiratory rate” feature.\n"
   ]
  },
  {
   "cell_type": "code",
   "execution_count": 9,
   "id": "331f1764",
   "metadata": {
    "scrolled": true
   },
   "outputs": [
    {
     "name": "stdout",
     "output_type": "stream",
     "text": [
      "+-----------------------+\n",
      "|   IDs with 2 std away |\n",
      "|-----------------------|\n",
      "|                127360 |\n",
      "|                191289 |\n",
      "|                116888 |\n",
      "|                113812 |\n",
      "|                138440 |\n",
      "|                190054 |\n",
      "|                153366 |\n",
      "|                116367 |\n",
      "|                133975 |\n",
      "|                152960 |\n",
      "|                145790 |\n",
      "|                108084 |\n",
      "|                107777 |\n",
      "|                126474 |\n",
      "|                107462 |\n",
      "|                141222 |\n",
      "|                130354 |\n",
      "|                128899 |\n",
      "|                180135 |\n",
      "|                173649 |\n",
      "|                151364 |\n",
      "|                154468 |\n",
      "|                155273 |\n",
      "|                109577 |\n",
      "|                153207 |\n",
      "|                166585 |\n",
      "|                155044 |\n",
      "|                110347 |\n",
      "|                120626 |\n",
      "|                128969 |\n",
      "|                133499 |\n",
      "|                192198 |\n",
      "|                110335 |\n",
      "|                175630 |\n",
      "|                166387 |\n",
      "|                149010 |\n",
      "|                196357 |\n",
      "|                161407 |\n",
      "|                184331 |\n",
      "|                145202 |\n",
      "|                102433 |\n",
      "|                111327 |\n",
      "|                123701 |\n",
      "|                145333 |\n",
      "|                150871 |\n",
      "|                111573 |\n",
      "|                126717 |\n",
      "|                161037 |\n",
      "|                180744 |\n",
      "|                145248 |\n",
      "|                113009 |\n",
      "|                182813 |\n",
      "|                146160 |\n",
      "|                159785 |\n",
      "+-----------------------+\n"
     ]
    }
   ],
   "source": [
    "# print(arr_features[17])  # ==>  Respiratory rate\n",
    "mean_Respiratory = np.nanmean(arr_data[:,17], axis=0)\n",
    "std_Respiratory = np.nanstd(arr_data[:,17], axis=0)\n",
    "\n",
    "lower , upper = mean_Respiratory - 2 * std_Respiratory , mean_Respiratory + 2 * std_Respiratory\n",
    "range_out = np.where((arr_data[:,17] < lower) | (arr_data[:,17] > upper))\n",
    "\n",
    "print(display({'IDs with 2 std away':IDs[range_out]}))"
   ]
  },
  {
   "cell_type": "markdown",
   "id": "999c5b08",
   "metadata": {},
   "source": [
    "### 9 - Compute the distance matrix among patients and determine the k-NN (k-nearest neighbors), where k = 3, for each patient using the np.argpartition function."
   ]
  },
  {
   "cell_type": "code",
   "execution_count": 10,
   "id": "06a825c4",
   "metadata": {
    "scrolled": true
   },
   "outputs": [
    {
     "data": {
      "text/plain": [
       "array([[ 875,    0,  835, ..., 1174, 1175, 1176],\n",
       "       [   1,  959,   27, ..., 1174, 1175, 1176],\n",
       "       [   2,  735, 1013, ..., 1174, 1175, 1176],\n",
       "       ...,\n",
       "       [1174,  817,  816, ...,    7,    3,  588],\n",
       "       [ 822, 1176,  919, ...,    7,    3,  588],\n",
       "       [ 558, 1176,  643, ...,    7,    3,  588]], dtype=int64)"
      ]
     },
     "execution_count": 10,
     "metadata": {},
     "output_type": "execute_result"
    }
   ],
   "source": [
    "distances = matrix_distances(arr_data[:,1:])\n",
    "K = 3\n",
    "nearest_partition = np.argpartition(distances, K+1, axis=1)\n",
    "nearest_partition"
   ]
  },
  {
   "cell_type": "markdown",
   "id": "cf815a17",
   "metadata": {},
   "source": [
    "### 10 - Compute the Pearson correlation coefficient between each pair of patients. Subsequently, identify the pair of patients with the highest correlation coefficient. Provide the correlation matrix, which should be a square matrix.\n"
   ]
  },
  {
   "cell_type": "code",
   "execution_count": 11,
   "id": "842fbb4d-1c9f-44f8-97ce-504b0173e0be",
   "metadata": {},
   "outputs": [
    {
     "name": "stdout",
     "output_type": "stream",
     "text": [
      "(20,21)\n",
      "0.8980516424873554\n"
     ]
    }
   ],
   "source": [
    "corr = np.corrcoef(arr_data[:,1:], rowvar=False)\n",
    "np.fill_diagonal(corr, 0)\n",
    "\n",
    "index = np.nanargmax(corr) # take the highest correlation coefficient index as ravel index from the corr\n",
    "row, col = np.unravel_index(index, corr.shape) # we want to unravel this index to row and column\n",
    "\n",
    "value = corr[row, col]\n",
    "\n",
    "print(f\"({row},{col})\")\n",
    "print(value)"
   ]
  },
  {
   "cell_type": "code",
   "execution_count": null,
   "id": "cfe23b02-5fc9-473e-a81a-bd81a0cb0470",
   "metadata": {},
   "outputs": [],
   "source": []
  }
 ],
 "metadata": {
  "kernelspec": {
   "display_name": "Python 3 (ipykernel)",
   "language": "python",
   "name": "python3"
  },
  "language_info": {
   "codemirror_mode": {
    "name": "ipython",
    "version": 3
   },
   "file_extension": ".py",
   "mimetype": "text/x-python",
   "name": "python",
   "nbconvert_exporter": "python",
   "pygments_lexer": "ipython3",
   "version": "3.11.5"
  }
 },
 "nbformat": 4,
 "nbformat_minor": 5
}
